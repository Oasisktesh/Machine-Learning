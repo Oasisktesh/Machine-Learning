{
 "cells": [
  {
   "cell_type": "code",
   "execution_count": 9,
   "metadata": {},
   "outputs": [],
   "source": [
    "import numpy as np\n",
    "import pandas as pd\n",
    "import seaborn as sns\n",
    "import matplotlib.pyplot as plt\n",
    "\n",
    "from sklearn import linear_model\n",
    "from sklearn.metrics import mean_squared_error"
   ]
  },
  {
   "cell_type": "code",
   "execution_count": 10,
   "metadata": {},
   "outputs": [],
   "source": [
    "# Load the used_cars dataset\n",
    "used_cars_df = pd.read_csv('used_cars.csv')"
   ]
  },
  {
   "cell_type": "code",
   "execution_count": 11,
   "metadata": {},
   "outputs": [
    {
     "data": {
      "text/html": [
       "<div>\n",
       "<style scoped>\n",
       "    .dataframe tbody tr th:only-of-type {\n",
       "        vertical-align: middle;\n",
       "    }\n",
       "\n",
       "    .dataframe tbody tr th {\n",
       "        vertical-align: top;\n",
       "    }\n",
       "\n",
       "    .dataframe thead th {\n",
       "        text-align: right;\n",
       "    }\n",
       "</style>\n",
       "<table border=\"1\" class=\"dataframe\">\n",
       "  <thead>\n",
       "    <tr style=\"text-align: right;\">\n",
       "      <th></th>\n",
       "      <th>Unnamed: 0</th>\n",
       "      <th>car_name</th>\n",
       "      <th>registration_year</th>\n",
       "      <th>insurance_validity</th>\n",
       "      <th>fuel_type</th>\n",
       "      <th>seats</th>\n",
       "      <th>kms_driven</th>\n",
       "      <th>ownsership</th>\n",
       "      <th>transmission</th>\n",
       "      <th>manufacturing_year</th>\n",
       "      <th>mileage(kmpl)</th>\n",
       "      <th>engine(cc)</th>\n",
       "      <th>max_power(bhp)</th>\n",
       "      <th>torque(Nm)</th>\n",
       "      <th>price(in lakhs)</th>\n",
       "    </tr>\n",
       "  </thead>\n",
       "  <tbody>\n",
       "    <tr>\n",
       "      <th>0</th>\n",
       "      <td>0</td>\n",
       "      <td>2017 Mercedes-Benz S-Class S400</td>\n",
       "      <td>Jul-17</td>\n",
       "      <td>Comprehensive</td>\n",
       "      <td>Petrol</td>\n",
       "      <td>5</td>\n",
       "      <td>56000</td>\n",
       "      <td>First Owner</td>\n",
       "      <td>Automatic</td>\n",
       "      <td>2017</td>\n",
       "      <td>7.81</td>\n",
       "      <td>2996.0</td>\n",
       "      <td>2996.0</td>\n",
       "      <td>333.0</td>\n",
       "      <td>63.75</td>\n",
       "    </tr>\n",
       "    <tr>\n",
       "      <th>1</th>\n",
       "      <td>1</td>\n",
       "      <td>2020 Nissan Magnite Turbo CVT XV Premium Opt BSVI</td>\n",
       "      <td>Jan-21</td>\n",
       "      <td>Comprehensive</td>\n",
       "      <td>Petrol</td>\n",
       "      <td>5</td>\n",
       "      <td>30615</td>\n",
       "      <td>First Owner</td>\n",
       "      <td>Automatic</td>\n",
       "      <td>2020</td>\n",
       "      <td>17.40</td>\n",
       "      <td>999.0</td>\n",
       "      <td>999.0</td>\n",
       "      <td>9863.0</td>\n",
       "      <td>8.99</td>\n",
       "    </tr>\n",
       "    <tr>\n",
       "      <th>2</th>\n",
       "      <td>2</td>\n",
       "      <td>2018 BMW X1 sDrive 20d xLine</td>\n",
       "      <td>Sep-18</td>\n",
       "      <td>Comprehensive</td>\n",
       "      <td>Diesel</td>\n",
       "      <td>5</td>\n",
       "      <td>24000</td>\n",
       "      <td>First Owner</td>\n",
       "      <td>Automatic</td>\n",
       "      <td>2018</td>\n",
       "      <td>20.68</td>\n",
       "      <td>1995.0</td>\n",
       "      <td>1995.0</td>\n",
       "      <td>188.0</td>\n",
       "      <td>23.75</td>\n",
       "    </tr>\n",
       "    <tr>\n",
       "      <th>3</th>\n",
       "      <td>3</td>\n",
       "      <td>2019 Kia Seltos GTX Plus</td>\n",
       "      <td>Dec-19</td>\n",
       "      <td>Comprehensive</td>\n",
       "      <td>Petrol</td>\n",
       "      <td>5</td>\n",
       "      <td>18378</td>\n",
       "      <td>First Owner</td>\n",
       "      <td>Manual</td>\n",
       "      <td>2019</td>\n",
       "      <td>16.50</td>\n",
       "      <td>1353.0</td>\n",
       "      <td>1353.0</td>\n",
       "      <td>13808.0</td>\n",
       "      <td>13.56</td>\n",
       "    </tr>\n",
       "    <tr>\n",
       "      <th>4</th>\n",
       "      <td>4</td>\n",
       "      <td>2019 Skoda Superb LK 1.8 TSI AT</td>\n",
       "      <td>Aug-19</td>\n",
       "      <td>Comprehensive</td>\n",
       "      <td>Petrol</td>\n",
       "      <td>5</td>\n",
       "      <td>44900</td>\n",
       "      <td>First Owner</td>\n",
       "      <td>Automatic</td>\n",
       "      <td>2019</td>\n",
       "      <td>14.67</td>\n",
       "      <td>1798.0</td>\n",
       "      <td>1798.0</td>\n",
       "      <td>17746.0</td>\n",
       "      <td>24.00</td>\n",
       "    </tr>\n",
       "    <tr>\n",
       "      <th>...</th>\n",
       "      <td>...</td>\n",
       "      <td>...</td>\n",
       "      <td>...</td>\n",
       "      <td>...</td>\n",
       "      <td>...</td>\n",
       "      <td>...</td>\n",
       "      <td>...</td>\n",
       "      <td>...</td>\n",
       "      <td>...</td>\n",
       "      <td>...</td>\n",
       "      <td>...</td>\n",
       "      <td>...</td>\n",
       "      <td>...</td>\n",
       "      <td>...</td>\n",
       "      <td>...</td>\n",
       "    </tr>\n",
       "    <tr>\n",
       "      <th>1548</th>\n",
       "      <td>1548</td>\n",
       "      <td>2020 Hyundai Creta SX Opt Diesel AT BSVI</td>\n",
       "      <td>Aug-20</td>\n",
       "      <td>Comprehensive</td>\n",
       "      <td>Diesel</td>\n",
       "      <td>5</td>\n",
       "      <td>35000</td>\n",
       "      <td>First Owner</td>\n",
       "      <td>Automatic</td>\n",
       "      <td>2020</td>\n",
       "      <td>1493.00</td>\n",
       "      <td>11345.0</td>\n",
       "      <td>11345.0</td>\n",
       "      <td>250.0</td>\n",
       "      <td>17.41</td>\n",
       "    </tr>\n",
       "    <tr>\n",
       "      <th>1549</th>\n",
       "      <td>1549</td>\n",
       "      <td>2022 Renault KWID 1.0 RXL Opt BSVI</td>\n",
       "      <td>2022</td>\n",
       "      <td>Third Party insurance</td>\n",
       "      <td>Petrol</td>\n",
       "      <td>5</td>\n",
       "      <td>10000</td>\n",
       "      <td>999 cc</td>\n",
       "      <td>2022</td>\n",
       "      <td>Power Steering</td>\n",
       "      <td>999.00</td>\n",
       "      <td>6706.0</td>\n",
       "      <td>6706.0</td>\n",
       "      <td>91.0</td>\n",
       "      <td>3.98</td>\n",
       "    </tr>\n",
       "    <tr>\n",
       "      <th>1550</th>\n",
       "      <td>1550</td>\n",
       "      <td>2017 Honda WR-V i-VTEC S</td>\n",
       "      <td>Jun-17</td>\n",
       "      <td>Comprehensive</td>\n",
       "      <td>Petrol</td>\n",
       "      <td>5</td>\n",
       "      <td>49000</td>\n",
       "      <td>First Owner</td>\n",
       "      <td>Manual</td>\n",
       "      <td>2017</td>\n",
       "      <td>17.50</td>\n",
       "      <td>1199.0</td>\n",
       "      <td>1199.0</td>\n",
       "      <td>887.0</td>\n",
       "      <td>5.85</td>\n",
       "    </tr>\n",
       "    <tr>\n",
       "      <th>1551</th>\n",
       "      <td>1551</td>\n",
       "      <td>2018 Volkswagen Polo 1.0 MPI Comfortline</td>\n",
       "      <td>May-18</td>\n",
       "      <td>Comprehensive</td>\n",
       "      <td>Petrol</td>\n",
       "      <td>5</td>\n",
       "      <td>40000</td>\n",
       "      <td>Second Owner</td>\n",
       "      <td>Manual</td>\n",
       "      <td>2018</td>\n",
       "      <td>18.78</td>\n",
       "      <td>999.0</td>\n",
       "      <td>999.0</td>\n",
       "      <td>75.0</td>\n",
       "      <td>4.75</td>\n",
       "    </tr>\n",
       "    <tr>\n",
       "      <th>1552</th>\n",
       "      <td>1552</td>\n",
       "      <td>2018 Maruti Swift Dzire VXI</td>\n",
       "      <td>May-18</td>\n",
       "      <td>Comprehensive</td>\n",
       "      <td>Petrol</td>\n",
       "      <td>5</td>\n",
       "      <td>34756</td>\n",
       "      <td>First Owner</td>\n",
       "      <td>Manual</td>\n",
       "      <td>2018</td>\n",
       "      <td>20.85</td>\n",
       "      <td>1197.0</td>\n",
       "      <td>1197.0</td>\n",
       "      <td>8314.0</td>\n",
       "      <td>6.10</td>\n",
       "    </tr>\n",
       "  </tbody>\n",
       "</table>\n",
       "<p>1553 rows × 15 columns</p>\n",
       "</div>"
      ],
      "text/plain": [
       "      Unnamed: 0                                           car_name  \\\n",
       "0              0                    2017 Mercedes-Benz S-Class S400   \n",
       "1              1  2020 Nissan Magnite Turbo CVT XV Premium Opt BSVI   \n",
       "2              2                       2018 BMW X1 sDrive 20d xLine   \n",
       "3              3                           2019 Kia Seltos GTX Plus   \n",
       "4              4                    2019 Skoda Superb LK 1.8 TSI AT   \n",
       "...          ...                                                ...   \n",
       "1548        1548           2020 Hyundai Creta SX Opt Diesel AT BSVI   \n",
       "1549        1549                 2022 Renault KWID 1.0 RXL Opt BSVI   \n",
       "1550        1550                           2017 Honda WR-V i-VTEC S   \n",
       "1551        1551           2018 Volkswagen Polo 1.0 MPI Comfortline   \n",
       "1552        1552                        2018 Maruti Swift Dzire VXI   \n",
       "\n",
       "     registration_year     insurance_validity fuel_type  seats  kms_driven  \\\n",
       "0               Jul-17          Comprehensive    Petrol      5       56000   \n",
       "1               Jan-21          Comprehensive    Petrol      5       30615   \n",
       "2               Sep-18          Comprehensive    Diesel      5       24000   \n",
       "3               Dec-19          Comprehensive    Petrol      5       18378   \n",
       "4               Aug-19          Comprehensive    Petrol      5       44900   \n",
       "...                ...                    ...       ...    ...         ...   \n",
       "1548            Aug-20          Comprehensive    Diesel      5       35000   \n",
       "1549              2022  Third Party insurance    Petrol      5       10000   \n",
       "1550            Jun-17          Comprehensive    Petrol      5       49000   \n",
       "1551            May-18          Comprehensive    Petrol      5       40000   \n",
       "1552            May-18          Comprehensive    Petrol      5       34756   \n",
       "\n",
       "        ownsership transmission manufacturing_year  mileage(kmpl)  engine(cc)  \\\n",
       "0      First Owner    Automatic               2017           7.81      2996.0   \n",
       "1      First Owner    Automatic               2020          17.40       999.0   \n",
       "2      First Owner    Automatic               2018          20.68      1995.0   \n",
       "3      First Owner       Manual               2019          16.50      1353.0   \n",
       "4      First Owner    Automatic               2019          14.67      1798.0   \n",
       "...            ...          ...                ...            ...         ...   \n",
       "1548   First Owner    Automatic               2020        1493.00     11345.0   \n",
       "1549        999 cc         2022     Power Steering         999.00      6706.0   \n",
       "1550   First Owner       Manual               2017          17.50      1199.0   \n",
       "1551  Second Owner       Manual               2018          18.78       999.0   \n",
       "1552   First Owner       Manual               2018          20.85      1197.0   \n",
       "\n",
       "      max_power(bhp)  torque(Nm)  price(in lakhs)  \n",
       "0             2996.0       333.0            63.75  \n",
       "1              999.0      9863.0             8.99  \n",
       "2             1995.0       188.0            23.75  \n",
       "3             1353.0     13808.0            13.56  \n",
       "4             1798.0     17746.0            24.00  \n",
       "...              ...         ...              ...  \n",
       "1548         11345.0       250.0            17.41  \n",
       "1549          6706.0        91.0             3.98  \n",
       "1550          1199.0       887.0             5.85  \n",
       "1551           999.0        75.0             4.75  \n",
       "1552          1197.0      8314.0             6.10  \n",
       "\n",
       "[1553 rows x 15 columns]"
      ]
     },
     "execution_count": 11,
     "metadata": {},
     "output_type": "execute_result"
    }
   ],
   "source": [
    "used_cars_df"
   ]
  },
  {
   "cell_type": "code",
   "execution_count": 12,
   "metadata": {},
   "outputs": [
    {
     "name": "stdout",
     "output_type": "stream",
     "text": [
      "<class 'pandas.core.frame.DataFrame'>\n",
      "RangeIndex: 1553 entries, 0 to 1552\n",
      "Data columns (total 15 columns):\n",
      " #   Column              Non-Null Count  Dtype  \n",
      "---  ------              --------------  -----  \n",
      " 0   Unnamed: 0          1553 non-null   int64  \n",
      " 1   car_name            1553 non-null   object \n",
      " 2   registration_year   1553 non-null   object \n",
      " 3   insurance_validity  1553 non-null   object \n",
      " 4   fuel_type           1553 non-null   object \n",
      " 5   seats               1553 non-null   int64  \n",
      " 6   kms_driven          1553 non-null   int64  \n",
      " 7   ownsership          1553 non-null   object \n",
      " 8   transmission        1553 non-null   object \n",
      " 9   manufacturing_year  1553 non-null   object \n",
      " 10  mileage(kmpl)       1550 non-null   float64\n",
      " 11  engine(cc)          1550 non-null   float64\n",
      " 12  max_power(bhp)      1550 non-null   float64\n",
      " 13  torque(Nm)          1549 non-null   float64\n",
      " 14  price(in lakhs)     1553 non-null   float64\n",
      "dtypes: float64(5), int64(3), object(7)\n",
      "memory usage: 182.1+ KB\n"
     ]
    }
   ],
   "source": [
    "used_cars_df.info()"
   ]
  },
  {
   "cell_type": "markdown",
   "metadata": {},
   "source": [
    "## Continuation\n",
    "\n",
    "We're now going to build upon the first lab of the week by now introucing multiple linear regression in sklearn.\n",
    "\n",
    "We'll begin by pretty much the same EDA and cleaning as the other lab, with some extra steps (that you should've done in previous lab's tasks) - so you can simply follow along here."
   ]
  },
  {
   "cell_type": "markdown",
   "metadata": {},
   "source": [
    "## Exploratory data analysis (EDA) and data cleaning\n",
    "\n",
    "The target for our regression problem here is the column *price*. \n",
    "\n",
    "Each row represent the characteristics of a car, and the corresponding sales price of said car. We are free to choose which of the available features to fit a model to, and try to predict the target with.\n",
    "\n",
    "It's generally essential that we use our wits and domain expertise to pick and engineer good features for our model. Bad features will produce a bad model, with poor predictie power. In other word, a useless model."
   ]
  },
  {
   "cell_type": "markdown",
   "metadata": {},
   "source": [
    "**Remove a redundant column**"
   ]
  },
  {
   "cell_type": "code",
   "execution_count": 13,
   "metadata": {},
   "outputs": [
    {
     "name": "stdout",
     "output_type": "stream",
     "text": [
      "Index(['car_name', 'registration_year', 'insurance_validity', 'fuel_type',\n",
      "       'seats', 'kms_driven', 'ownsership', 'transmission',\n",
      "       'manufacturing_year', 'mileage(kmpl)', 'engine(cc)', 'max_power(bhp)',\n",
      "       'torque(Nm)', 'price(in lakhs)'],\n",
      "      dtype='object')\n"
     ]
    }
   ],
   "source": [
    "# remove the first column which looks like a copy of the index column\n",
    "\n",
    "columns_to_keep = used_cars_df.columns[1:]\n",
    "print(columns_to_keep)"
   ]
  },
  {
   "cell_type": "code",
   "execution_count": 14,
   "metadata": {},
   "outputs": [],
   "source": [
    "used_cars_df = used_cars_df[columns_to_keep]"
   ]
  },
  {
   "cell_type": "markdown",
   "metadata": {},
   "source": [
    "**Keep only numerical columns, for now**\n",
    "\n",
    "Many machine learning models require that the input are all numerical (since you can't do mathematic operations with anything else), and it is therefore essential that (when using models with that requirement) make sure that the data satisfies that condition.\n",
    "\n",
    "Note that there are ways to transform any given column into numericals that we can work with, but let's hold on with that for now and only keep the features that already are."
   ]
  },
  {
   "cell_type": "code",
   "execution_count": 15,
   "metadata": {},
   "outputs": [
    {
     "name": "stdout",
     "output_type": "stream",
     "text": [
      "<class 'pandas.core.frame.DataFrame'>\n",
      "RangeIndex: 1553 entries, 0 to 1552\n",
      "Data columns (total 14 columns):\n",
      " #   Column              Non-Null Count  Dtype  \n",
      "---  ------              --------------  -----  \n",
      " 0   car_name            1553 non-null   object \n",
      " 1   registration_year   1553 non-null   object \n",
      " 2   insurance_validity  1553 non-null   object \n",
      " 3   fuel_type           1553 non-null   object \n",
      " 4   seats               1553 non-null   int64  \n",
      " 5   kms_driven          1553 non-null   int64  \n",
      " 6   ownsership          1553 non-null   object \n",
      " 7   transmission        1553 non-null   object \n",
      " 8   manufacturing_year  1553 non-null   object \n",
      " 9   mileage(kmpl)       1550 non-null   float64\n",
      " 10  engine(cc)          1550 non-null   float64\n",
      " 11  max_power(bhp)      1550 non-null   float64\n",
      " 12  torque(Nm)          1549 non-null   float64\n",
      " 13  price(in lakhs)     1553 non-null   float64\n",
      "dtypes: float64(5), int64(2), object(7)\n",
      "memory usage: 170.0+ KB\n"
     ]
    }
   ],
   "source": [
    "used_cars_df.info()\n"
   ]
  },
  {
   "cell_type": "code",
   "execution_count": 16,
   "metadata": {},
   "outputs": [
    {
     "data": {
      "text/html": [
       "<div>\n",
       "<style scoped>\n",
       "    .dataframe tbody tr th:only-of-type {\n",
       "        vertical-align: middle;\n",
       "    }\n",
       "\n",
       "    .dataframe tbody tr th {\n",
       "        vertical-align: top;\n",
       "    }\n",
       "\n",
       "    .dataframe thead th {\n",
       "        text-align: right;\n",
       "    }\n",
       "</style>\n",
       "<table border=\"1\" class=\"dataframe\">\n",
       "  <thead>\n",
       "    <tr style=\"text-align: right;\">\n",
       "      <th></th>\n",
       "      <th>seats</th>\n",
       "      <th>kms_driven</th>\n",
       "      <th>mileage(kmpl)</th>\n",
       "      <th>engine(cc)</th>\n",
       "      <th>max_power(bhp)</th>\n",
       "      <th>torque(Nm)</th>\n",
       "      <th>price(in lakhs)</th>\n",
       "    </tr>\n",
       "  </thead>\n",
       "  <tbody>\n",
       "    <tr>\n",
       "      <th>0</th>\n",
       "      <td>5</td>\n",
       "      <td>56000</td>\n",
       "      <td>7.81</td>\n",
       "      <td>2996.0</td>\n",
       "      <td>2996.0</td>\n",
       "      <td>333.0</td>\n",
       "      <td>63.75</td>\n",
       "    </tr>\n",
       "    <tr>\n",
       "      <th>1</th>\n",
       "      <td>5</td>\n",
       "      <td>30615</td>\n",
       "      <td>17.40</td>\n",
       "      <td>999.0</td>\n",
       "      <td>999.0</td>\n",
       "      <td>9863.0</td>\n",
       "      <td>8.99</td>\n",
       "    </tr>\n",
       "    <tr>\n",
       "      <th>2</th>\n",
       "      <td>5</td>\n",
       "      <td>24000</td>\n",
       "      <td>20.68</td>\n",
       "      <td>1995.0</td>\n",
       "      <td>1995.0</td>\n",
       "      <td>188.0</td>\n",
       "      <td>23.75</td>\n",
       "    </tr>\n",
       "    <tr>\n",
       "      <th>3</th>\n",
       "      <td>5</td>\n",
       "      <td>18378</td>\n",
       "      <td>16.50</td>\n",
       "      <td>1353.0</td>\n",
       "      <td>1353.0</td>\n",
       "      <td>13808.0</td>\n",
       "      <td>13.56</td>\n",
       "    </tr>\n",
       "    <tr>\n",
       "      <th>4</th>\n",
       "      <td>5</td>\n",
       "      <td>44900</td>\n",
       "      <td>14.67</td>\n",
       "      <td>1798.0</td>\n",
       "      <td>1798.0</td>\n",
       "      <td>17746.0</td>\n",
       "      <td>24.00</td>\n",
       "    </tr>\n",
       "    <tr>\n",
       "      <th>...</th>\n",
       "      <td>...</td>\n",
       "      <td>...</td>\n",
       "      <td>...</td>\n",
       "      <td>...</td>\n",
       "      <td>...</td>\n",
       "      <td>...</td>\n",
       "      <td>...</td>\n",
       "    </tr>\n",
       "    <tr>\n",
       "      <th>1548</th>\n",
       "      <td>5</td>\n",
       "      <td>35000</td>\n",
       "      <td>1493.00</td>\n",
       "      <td>11345.0</td>\n",
       "      <td>11345.0</td>\n",
       "      <td>250.0</td>\n",
       "      <td>17.41</td>\n",
       "    </tr>\n",
       "    <tr>\n",
       "      <th>1549</th>\n",
       "      <td>5</td>\n",
       "      <td>10000</td>\n",
       "      <td>999.00</td>\n",
       "      <td>6706.0</td>\n",
       "      <td>6706.0</td>\n",
       "      <td>91.0</td>\n",
       "      <td>3.98</td>\n",
       "    </tr>\n",
       "    <tr>\n",
       "      <th>1550</th>\n",
       "      <td>5</td>\n",
       "      <td>49000</td>\n",
       "      <td>17.50</td>\n",
       "      <td>1199.0</td>\n",
       "      <td>1199.0</td>\n",
       "      <td>887.0</td>\n",
       "      <td>5.85</td>\n",
       "    </tr>\n",
       "    <tr>\n",
       "      <th>1551</th>\n",
       "      <td>5</td>\n",
       "      <td>40000</td>\n",
       "      <td>18.78</td>\n",
       "      <td>999.0</td>\n",
       "      <td>999.0</td>\n",
       "      <td>75.0</td>\n",
       "      <td>4.75</td>\n",
       "    </tr>\n",
       "    <tr>\n",
       "      <th>1552</th>\n",
       "      <td>5</td>\n",
       "      <td>34756</td>\n",
       "      <td>20.85</td>\n",
       "      <td>1197.0</td>\n",
       "      <td>1197.0</td>\n",
       "      <td>8314.0</td>\n",
       "      <td>6.10</td>\n",
       "    </tr>\n",
       "  </tbody>\n",
       "</table>\n",
       "<p>1553 rows × 7 columns</p>\n",
       "</div>"
      ],
      "text/plain": [
       "      seats  kms_driven  mileage(kmpl)  engine(cc)  max_power(bhp)  \\\n",
       "0         5       56000           7.81      2996.0          2996.0   \n",
       "1         5       30615          17.40       999.0           999.0   \n",
       "2         5       24000          20.68      1995.0          1995.0   \n",
       "3         5       18378          16.50      1353.0          1353.0   \n",
       "4         5       44900          14.67      1798.0          1798.0   \n",
       "...     ...         ...            ...         ...             ...   \n",
       "1548      5       35000        1493.00     11345.0         11345.0   \n",
       "1549      5       10000         999.00      6706.0          6706.0   \n",
       "1550      5       49000          17.50      1199.0          1199.0   \n",
       "1551      5       40000          18.78       999.0           999.0   \n",
       "1552      5       34756          20.85      1197.0          1197.0   \n",
       "\n",
       "      torque(Nm)  price(in lakhs)  \n",
       "0          333.0            63.75  \n",
       "1         9863.0             8.99  \n",
       "2          188.0            23.75  \n",
       "3        13808.0            13.56  \n",
       "4        17746.0            24.00  \n",
       "...          ...              ...  \n",
       "1548       250.0            17.41  \n",
       "1549        91.0             3.98  \n",
       "1550       887.0             5.85  \n",
       "1551        75.0             4.75  \n",
       "1552      8314.0             6.10  \n",
       "\n",
       "[1553 rows x 7 columns]"
      ]
     },
     "execution_count": 16,
     "metadata": {},
     "output_type": "execute_result"
    }
   ],
   "source": [
    "used_cars_df = used_cars_df.select_dtypes(include=['int64', 'float64'])\n",
    "\n",
    "used_cars_df"
   ]
  },
  {
   "cell_type": "markdown",
   "metadata": {},
   "source": [
    "**Deal with missing data**\n",
    "\n",
    "Let's try to find and mitigate missing data. Note that whether to remove data points is a very sensitive decision, and should be carefully considered. \n",
    "\n",
    "Augmenting and fixing the data is a better alternative, if the time to do so is available. \n",
    "\n",
    "All changes we do to the training data *will* affect our model's performance, either insignificantly or significantly - depending on the changes we've made, and to what extent."
   ]
  },
  {
   "cell_type": "code",
   "execution_count": 17,
   "metadata": {},
   "outputs": [
    {
     "data": {
      "text/plain": [
       "seats              0\n",
       "kms_driven         0\n",
       "mileage(kmpl)      3\n",
       "engine(cc)         3\n",
       "max_power(bhp)     3\n",
       "torque(Nm)         4\n",
       "price(in lakhs)    0\n",
       "dtype: int64"
      ]
     },
     "execution_count": 17,
     "metadata": {},
     "output_type": "execute_result"
    }
   ],
   "source": [
    "# check for null-data\n",
    "\n",
    "used_cars_df.isnull().sum()"
   ]
  },
  {
   "cell_type": "code",
   "execution_count": 18,
   "metadata": {},
   "outputs": [
    {
     "data": {
      "text/plain": [
       "seats              0\n",
       "kms_driven         0\n",
       "mileage(kmpl)      0\n",
       "engine(cc)         0\n",
       "max_power(bhp)     0\n",
       "torque(Nm)         0\n",
       "price(in lakhs)    0\n",
       "dtype: int64"
      ]
     },
     "execution_count": 18,
     "metadata": {},
     "output_type": "execute_result"
    }
   ],
   "source": [
    "used_cars_df = used_cars_df.dropna().reset_index(drop=True)\n",
    "\n",
    "used_cars_df.isnull().sum()"
   ]
  },
  {
   "cell_type": "markdown",
   "metadata": {},
   "source": [
    "**Dealing with unreasonable data**\n",
    "\n",
    "Usually, we have to spend considerable time to just clean the data and get rid of crap that has nested it's way into it.\n",
    "\n",
    "Crap in data is very common in real life."
   ]
  },
  {
   "cell_type": "markdown",
   "metadata": {},
   "source": [
    "Let's begin by trying to understand the price column a bit better."
   ]
  },
  {
   "cell_type": "code",
   "execution_count": 19,
   "metadata": {},
   "outputs": [
    {
     "data": {
      "image/png": "[encoded data removed]",
      "text/plain": [
       "<Figure size 640x480 with 1 Axes>"
      ]
     },
     "metadata": {},
     "output_type": "display_data"
    }
   ],
   "source": [
    "plt.hist(used_cars_df['price(in lakhs)'], bins=50);\n",
    "plt.xlabel('price(in lakhs)');\n",
    "plt.ylabel('count');"
   ]
  },
  {
   "cell_type": "markdown",
   "metadata": {},
   "source": [
    "That's strange, it looks like there are a few cars that are extremely expensive. This is not incorrect per se, but let's look deeper."
   ]
  },
  {
   "cell_type": "code",
   "execution_count": 20,
   "metadata": {},
   "outputs": [
    {
     "data": {
      "text/html": [
       "<div>\n",
       "<style scoped>\n",
       "    .dataframe tbody tr th:only-of-type {\n",
       "        vertical-align: middle;\n",
       "    }\n",
       "\n",
       "    .dataframe tbody tr th {\n",
       "        vertical-align: top;\n",
       "    }\n",
       "\n",
       "    .dataframe thead th {\n",
       "        text-align: right;\n",
       "    }\n",
       "</style>\n",
       "<table border=\"1\" class=\"dataframe\">\n",
       "  <thead>\n",
       "    <tr style=\"text-align: right;\">\n",
       "      <th></th>\n",
       "      <th>seats</th>\n",
       "      <th>kms_driven</th>\n",
       "      <th>mileage(kmpl)</th>\n",
       "      <th>engine(cc)</th>\n",
       "      <th>max_power(bhp)</th>\n",
       "      <th>torque(Nm)</th>\n",
       "      <th>price(in lakhs)</th>\n",
       "    </tr>\n",
       "  </thead>\n",
       "  <tbody>\n",
       "    <tr>\n",
       "      <th>173</th>\n",
       "      <td>5</td>\n",
       "      <td>66717</td>\n",
       "      <td>1196.0</td>\n",
       "      <td>70.0</td>\n",
       "      <td>70.0</td>\n",
       "      <td>102.0</td>\n",
       "      <td>70000.0</td>\n",
       "    </tr>\n",
       "    <tr>\n",
       "      <th>193</th>\n",
       "      <td>5</td>\n",
       "      <td>66717</td>\n",
       "      <td>1196.0</td>\n",
       "      <td>70.0</td>\n",
       "      <td>70.0</td>\n",
       "      <td>102.0</td>\n",
       "      <td>70000.0</td>\n",
       "    </tr>\n",
       "    <tr>\n",
       "      <th>1273</th>\n",
       "      <td>5</td>\n",
       "      <td>44002</td>\n",
       "      <td>19.7</td>\n",
       "      <td>796.0</td>\n",
       "      <td>796.0</td>\n",
       "      <td>463.0</td>\n",
       "      <td>95000.0</td>\n",
       "    </tr>\n",
       "  </tbody>\n",
       "</table>\n",
       "</div>"
      ],
      "text/plain": [
       "      seats  kms_driven  mileage(kmpl)  engine(cc)  max_power(bhp)  \\\n",
       "173       5       66717         1196.0        70.0            70.0   \n",
       "193       5       66717         1196.0        70.0            70.0   \n",
       "1273      5       44002           19.7       796.0           796.0   \n",
       "\n",
       "      torque(Nm)  price(in lakhs)  \n",
       "173        102.0          70000.0  \n",
       "193        102.0          70000.0  \n",
       "1273       463.0          95000.0  "
      ]
     },
     "execution_count": 20,
     "metadata": {},
     "output_type": "execute_result"
    }
   ],
   "source": [
    "used_cars_df[used_cars_df['price(in lakhs)']>100]"
   ]
  },
  {
   "cell_type": "markdown",
   "metadata": {},
   "source": [
    "Ok, so we have 3 records of cars that looks to suspicous.\n",
    "\n",
    "Since Ali has been in India, he knows that 1 lakh is a common indian measure that means one hundred thousand (indian rupees, in this case).\n",
    "\n",
    "70000 lakhs is therefore 70000 * 100.000 = 7000000000 (indian rupees).\n",
    "\n",
    "Converting this to Swedish currency we get 877447200 SEK. Not reasonably at all. \n",
    "\n",
    "Let's just remove these records for simplicity, and plot again"
   ]
  },
  {
   "cell_type": "code",
   "execution_count": 21,
   "metadata": {},
   "outputs": [
    {
     "data": {
      "image/png": "[encoded data removed]",
      "text/plain": [
       "<Figure size 640x480 with 1 Axes>"
      ]
     },
     "metadata": {},
     "output_type": "display_data"
    }
   ],
   "source": [
    "used_cars_df = used_cars_df[used_cars_df['price(in lakhs)']<12.5].reset_index(drop=True)\n",
    "\n",
    "plt.hist(used_cars_df['price(in lakhs)'], bins=50);\n",
    "\n",
    "plt.xlabel('price(in lakhs)');\n",
    "plt.ylabel('count');"
   ]
  },
  {
   "cell_type": "markdown",
   "metadata": {},
   "source": [
    "Ah, now it looks much more realistic!"
   ]
  },
  {
   "cell_type": "markdown",
   "metadata": {},
   "source": [
    "Ok, great. Let's also take a look at kms_driven"
   ]
  },
  {
   "cell_type": "code",
   "execution_count": 22,
   "metadata": {},
   "outputs": [
    {
     "data": {
      "image/png": "[encoded data removed]",
      "text/plain": [
       "<Figure size 640x480 with 1 Axes>"
      ]
     },
     "metadata": {},
     "output_type": "display_data"
    }
   ],
   "source": [
    "plt.hist(used_cars_df['kms_driven'], bins=50, color='green');\n",
    "\n",
    "plt.xlabel('kms_driven');\n",
    "plt.ylabel('count');"
   ]
  },
  {
   "cell_type": "markdown",
   "metadata": {},
   "source": [
    "Well, this also looks a little suspicious. Perhaps?"
   ]
  },
  {
   "cell_type": "code",
   "execution_count": 23,
   "metadata": {},
   "outputs": [
    {
     "data": {
      "text/html": [
       "<div>\n",
       "<style scoped>\n",
       "    .dataframe tbody tr th:only-of-type {\n",
       "        vertical-align: middle;\n",
       "    }\n",
       "\n",
       "    .dataframe tbody tr th {\n",
       "        vertical-align: top;\n",
       "    }\n",
       "\n",
       "    .dataframe thead th {\n",
       "        text-align: right;\n",
       "    }\n",
       "</style>\n",
       "<table border=\"1\" class=\"dataframe\">\n",
       "  <thead>\n",
       "    <tr style=\"text-align: right;\">\n",
       "      <th></th>\n",
       "      <th>seats</th>\n",
       "      <th>kms_driven</th>\n",
       "      <th>mileage(kmpl)</th>\n",
       "      <th>engine(cc)</th>\n",
       "      <th>max_power(bhp)</th>\n",
       "      <th>torque(Nm)</th>\n",
       "      <th>price(in lakhs)</th>\n",
       "    </tr>\n",
       "  </thead>\n",
       "  <tbody>\n",
       "    <tr>\n",
       "      <th>675</th>\n",
       "      <td>5</td>\n",
       "      <td>790000</td>\n",
       "      <td>18.15</td>\n",
       "      <td>998.0</td>\n",
       "      <td>998.0</td>\n",
       "      <td>11835.0</td>\n",
       "      <td>9.75</td>\n",
       "    </tr>\n",
       "    <tr>\n",
       "      <th>709</th>\n",
       "      <td>5</td>\n",
       "      <td>810000</td>\n",
       "      <td>21.70</td>\n",
       "      <td>1498.0</td>\n",
       "      <td>1498.0</td>\n",
       "      <td>9896.0</td>\n",
       "      <td>9.00</td>\n",
       "    </tr>\n",
       "    <tr>\n",
       "      <th>941</th>\n",
       "      <td>7</td>\n",
       "      <td>176000</td>\n",
       "      <td>12.80</td>\n",
       "      <td>2494.0</td>\n",
       "      <td>2494.0</td>\n",
       "      <td>102.0</td>\n",
       "      <td>4.40</td>\n",
       "    </tr>\n",
       "    <tr>\n",
       "      <th>962</th>\n",
       "      <td>7</td>\n",
       "      <td>260000</td>\n",
       "      <td>12.80</td>\n",
       "      <td>2494.0</td>\n",
       "      <td>2494.0</td>\n",
       "      <td>102.0</td>\n",
       "      <td>6.25</td>\n",
       "    </tr>\n",
       "  </tbody>\n",
       "</table>\n",
       "</div>"
      ],
      "text/plain": [
       "     seats  kms_driven  mileage(kmpl)  engine(cc)  max_power(bhp)  torque(Nm)  \\\n",
       "675      5      790000          18.15       998.0           998.0     11835.0   \n",
       "709      5      810000          21.70      1498.0          1498.0      9896.0   \n",
       "941      7      176000          12.80      2494.0          2494.0       102.0   \n",
       "962      7      260000          12.80      2494.0          2494.0       102.0   \n",
       "\n",
       "     price(in lakhs)  \n",
       "675             9.75  \n",
       "709             9.00  \n",
       "941             4.40  \n",
       "962             6.25  "
      ]
     },
     "execution_count": 23,
     "metadata": {},
     "output_type": "execute_result"
    }
   ],
   "source": [
    "used_cars_df[used_cars_df['kms_driven']>150000]"
   ]
  },
  {
   "cell_type": "markdown",
   "metadata": {},
   "source": [
    "Ok, so there are only 6 cars that have droven over 150.000 kms. Let's remove them, since they deviate in too much in values from our other values, and thus much deteroriate the models performance."
   ]
  },
  {
   "cell_type": "code",
   "execution_count": 24,
   "metadata": {},
   "outputs": [
    {
     "data": {
      "image/png": "[encoded data removed]",
      "text/plain": [
       "<Figure size 640x480 with 1 Axes>"
      ]
     },
     "metadata": {},
     "output_type": "display_data"
    }
   ],
   "source": [
    "used_cars_df = used_cars_df[used_cars_df['kms_driven']<150000].reset_index(drop=True)\n",
    "\n",
    "plt.hist(used_cars_df['kms_driven'], bins=50, color='green');\n",
    "\n",
    "plt.xlabel('kms_driven');\n",
    "plt.ylabel('count');"
   ]
  },
  {
   "cell_type": "markdown",
   "metadata": {},
   "source": [
    "Remember, we now don't have any cars with high mileage in our training data at all. This is perfectly fine, but you should **not** try to use this resulting model to predict the price of cars with high mileage!"
   ]
  },
  {
   "cell_type": "markdown",
   "metadata": {},
   "source": [
    "Let's look at kmpl now. This means kilometers per liter. What are reasonable values for this, do you think?"
   ]
  },
  {
   "cell_type": "code",
   "execution_count": 25,
   "metadata": {},
   "outputs": [
    {
     "data": {
      "text/plain": [
       "(array([  6.,   2.,   3.,  13.,   6.,  14.,  22.,  49.,  70., 126., 190.,\n",
       "         64., 113.,  87.,  47.,  23.,  36.,  16.,   7.,  14.]),\n",
       " array([ 7.81  ,  8.8395,  9.869 , 10.8985, 11.928 , 12.9575, 13.987 ,\n",
       "        15.0165, 16.046 , 17.0755, 18.105 , 19.1345, 20.164 , 21.1935,\n",
       "        22.223 , 23.2525, 24.282 , 25.3115, 26.341 , 27.3705, 28.4   ]),\n",
       " <BarContainer object of 20 artists>)"
      ]
     },
     "execution_count": 25,
     "metadata": {},
     "output_type": "execute_result"
    },
    {
     "data": {
      "image/png": "[encoded data removed]",
      "text/plain": [
       "<Figure size 640x480 with 1 Axes>"
      ]
     },
     "metadata": {},
     "output_type": "display_data"
    }
   ],
   "source": [
    "used_cars_df = used_cars_df[used_cars_df['mileage(kmpl)']<30].reset_index(drop=True)\n",
    "\n",
    "plt.hist(used_cars_df['mileage(kmpl)'], bins = 20, color='red')"
   ]
  },
  {
   "cell_type": "code",
   "execution_count": 26,
   "metadata": {},
   "outputs": [
    {
     "data": {
      "image/png": "[encoded data removed]",
      "text/plain": [
       "<Figure size 640x480 with 1 Axes>"
      ]
     },
     "metadata": {},
     "output_type": "display_data"
    }
   ],
   "source": [
    "plt.scatter(used_cars_df['mileage(kmpl)'], used_cars_df['price(in lakhs)']);"
   ]
  },
  {
   "cell_type": "markdown",
   "metadata": {},
   "source": [
    "If we look carefully, engine(cc) and max_power(bhp) is the same column!"
   ]
  },
  {
   "cell_type": "code",
   "execution_count": 27,
   "metadata": {},
   "outputs": [
    {
     "data": {
      "text/html": [
       "<div>\n",
       "<style scoped>\n",
       "    .dataframe tbody tr th:only-of-type {\n",
       "        vertical-align: middle;\n",
       "    }\n",
       "\n",
       "    .dataframe tbody tr th {\n",
       "        vertical-align: top;\n",
       "    }\n",
       "\n",
       "    .dataframe thead th {\n",
       "        text-align: right;\n",
       "    }\n",
       "</style>\n",
       "<table border=\"1\" class=\"dataframe\">\n",
       "  <thead>\n",
       "    <tr style=\"text-align: right;\">\n",
       "      <th></th>\n",
       "      <th>seats</th>\n",
       "      <th>kms_driven</th>\n",
       "      <th>mileage(kmpl)</th>\n",
       "      <th>engine(cc)</th>\n",
       "      <th>max_power(bhp)</th>\n",
       "      <th>torque(Nm)</th>\n",
       "      <th>price(in lakhs)</th>\n",
       "    </tr>\n",
       "  </thead>\n",
       "  <tbody>\n",
       "    <tr>\n",
       "      <th>0</th>\n",
       "      <td>5</td>\n",
       "      <td>30615</td>\n",
       "      <td>17.40</td>\n",
       "      <td>999.0</td>\n",
       "      <td>999.0</td>\n",
       "      <td>9863.0</td>\n",
       "      <td>8.99</td>\n",
       "    </tr>\n",
       "    <tr>\n",
       "      <th>1</th>\n",
       "      <td>5</td>\n",
       "      <td>42000</td>\n",
       "      <td>18.70</td>\n",
       "      <td>1199.0</td>\n",
       "      <td>1199.0</td>\n",
       "      <td>887.0</td>\n",
       "      <td>5.45</td>\n",
       "    </tr>\n",
       "    <tr>\n",
       "      <th>2</th>\n",
       "      <td>5</td>\n",
       "      <td>36739</td>\n",
       "      <td>18.90</td>\n",
       "      <td>1197.0</td>\n",
       "      <td>1197.0</td>\n",
       "      <td>8186.0</td>\n",
       "      <td>5.12</td>\n",
       "    </tr>\n",
       "    <tr>\n",
       "      <th>3</th>\n",
       "      <td>5</td>\n",
       "      <td>76000</td>\n",
       "      <td>15.80</td>\n",
       "      <td>1591.0</td>\n",
       "      <td>1591.0</td>\n",
       "      <td>1213.0</td>\n",
       "      <td>9.30</td>\n",
       "    </tr>\n",
       "    <tr>\n",
       "      <th>4</th>\n",
       "      <td>5</td>\n",
       "      <td>28783</td>\n",
       "      <td>17.00</td>\n",
       "      <td>1198.0</td>\n",
       "      <td>1198.0</td>\n",
       "      <td>1085.0</td>\n",
       "      <td>8.02</td>\n",
       "    </tr>\n",
       "    <tr>\n",
       "      <th>...</th>\n",
       "      <td>...</td>\n",
       "      <td>...</td>\n",
       "      <td>...</td>\n",
       "      <td>...</td>\n",
       "      <td>...</td>\n",
       "      <td>...</td>\n",
       "      <td>...</td>\n",
       "    </tr>\n",
       "    <tr>\n",
       "      <th>903</th>\n",
       "      <td>5</td>\n",
       "      <td>19446</td>\n",
       "      <td>18.20</td>\n",
       "      <td>1199.0</td>\n",
       "      <td>1199.0</td>\n",
       "      <td>887.0</td>\n",
       "      <td>6.50</td>\n",
       "    </tr>\n",
       "    <tr>\n",
       "      <th>904</th>\n",
       "      <td>7</td>\n",
       "      <td>26500</td>\n",
       "      <td>26.11</td>\n",
       "      <td>1462.0</td>\n",
       "      <td>1462.0</td>\n",
       "      <td>8663.0</td>\n",
       "      <td>11.50</td>\n",
       "    </tr>\n",
       "    <tr>\n",
       "      <th>905</th>\n",
       "      <td>5</td>\n",
       "      <td>49000</td>\n",
       "      <td>17.50</td>\n",
       "      <td>1199.0</td>\n",
       "      <td>1199.0</td>\n",
       "      <td>887.0</td>\n",
       "      <td>5.85</td>\n",
       "    </tr>\n",
       "    <tr>\n",
       "      <th>906</th>\n",
       "      <td>5</td>\n",
       "      <td>40000</td>\n",
       "      <td>18.78</td>\n",
       "      <td>999.0</td>\n",
       "      <td>999.0</td>\n",
       "      <td>75.0</td>\n",
       "      <td>4.75</td>\n",
       "    </tr>\n",
       "    <tr>\n",
       "      <th>907</th>\n",
       "      <td>5</td>\n",
       "      <td>34756</td>\n",
       "      <td>20.85</td>\n",
       "      <td>1197.0</td>\n",
       "      <td>1197.0</td>\n",
       "      <td>8314.0</td>\n",
       "      <td>6.10</td>\n",
       "    </tr>\n",
       "  </tbody>\n",
       "</table>\n",
       "<p>908 rows × 7 columns</p>\n",
       "</div>"
      ],
      "text/plain": [
       "     seats  kms_driven  mileage(kmpl)  engine(cc)  max_power(bhp)  torque(Nm)  \\\n",
       "0        5       30615          17.40       999.0           999.0      9863.0   \n",
       "1        5       42000          18.70      1199.0          1199.0       887.0   \n",
       "2        5       36739          18.90      1197.0          1197.0      8186.0   \n",
       "3        5       76000          15.80      1591.0          1591.0      1213.0   \n",
       "4        5       28783          17.00      1198.0          1198.0      1085.0   \n",
       "..     ...         ...            ...         ...             ...         ...   \n",
       "903      5       19446          18.20      1199.0          1199.0       887.0   \n",
       "904      7       26500          26.11      1462.0          1462.0      8663.0   \n",
       "905      5       49000          17.50      1199.0          1199.0       887.0   \n",
       "906      5       40000          18.78       999.0           999.0        75.0   \n",
       "907      5       34756          20.85      1197.0          1197.0      8314.0   \n",
       "\n",
       "     price(in lakhs)  \n",
       "0               8.99  \n",
       "1               5.45  \n",
       "2               5.12  \n",
       "3               9.30  \n",
       "4               8.02  \n",
       "..               ...  \n",
       "903             6.50  \n",
       "904            11.50  \n",
       "905             5.85  \n",
       "906             4.75  \n",
       "907             6.10  \n",
       "\n",
       "[908 rows x 7 columns]"
      ]
     },
     "execution_count": 27,
     "metadata": {},
     "output_type": "execute_result"
    }
   ],
   "source": [
    "used_cars_df"
   ]
  },
  {
   "cell_type": "code",
   "execution_count": 28,
   "metadata": {},
   "outputs": [],
   "source": [
    "used_cars_df = used_cars_df.drop(columns=['max_power(bhp)'])"
   ]
  },
  {
   "cell_type": "code",
   "execution_count": 29,
   "metadata": {},
   "outputs": [
    {
     "data": {
      "text/html": [
       "<div>\n",
       "<style scoped>\n",
       "    .dataframe tbody tr th:only-of-type {\n",
       "        vertical-align: middle;\n",
       "    }\n",
       "\n",
       "    .dataframe tbody tr th {\n",
       "        vertical-align: top;\n",
       "    }\n",
       "\n",
       "    .dataframe thead th {\n",
       "        text-align: right;\n",
       "    }\n",
       "</style>\n",
       "<table border=\"1\" class=\"dataframe\">\n",
       "  <thead>\n",
       "    <tr style=\"text-align: right;\">\n",
       "      <th></th>\n",
       "      <th>seats</th>\n",
       "      <th>kms_driven</th>\n",
       "      <th>mileage(kmpl)</th>\n",
       "      <th>engine(cc)</th>\n",
       "      <th>torque(Nm)</th>\n",
       "      <th>price(in lakhs)</th>\n",
       "    </tr>\n",
       "  </thead>\n",
       "  <tbody>\n",
       "    <tr>\n",
       "      <th>0</th>\n",
       "      <td>5</td>\n",
       "      <td>30615</td>\n",
       "      <td>17.40</td>\n",
       "      <td>999.0</td>\n",
       "      <td>9863.0</td>\n",
       "      <td>8.99</td>\n",
       "    </tr>\n",
       "    <tr>\n",
       "      <th>1</th>\n",
       "      <td>5</td>\n",
       "      <td>42000</td>\n",
       "      <td>18.70</td>\n",
       "      <td>1199.0</td>\n",
       "      <td>887.0</td>\n",
       "      <td>5.45</td>\n",
       "    </tr>\n",
       "    <tr>\n",
       "      <th>2</th>\n",
       "      <td>5</td>\n",
       "      <td>36739</td>\n",
       "      <td>18.90</td>\n",
       "      <td>1197.0</td>\n",
       "      <td>8186.0</td>\n",
       "      <td>5.12</td>\n",
       "    </tr>\n",
       "    <tr>\n",
       "      <th>3</th>\n",
       "      <td>5</td>\n",
       "      <td>76000</td>\n",
       "      <td>15.80</td>\n",
       "      <td>1591.0</td>\n",
       "      <td>1213.0</td>\n",
       "      <td>9.30</td>\n",
       "    </tr>\n",
       "    <tr>\n",
       "      <th>4</th>\n",
       "      <td>5</td>\n",
       "      <td>28783</td>\n",
       "      <td>17.00</td>\n",
       "      <td>1198.0</td>\n",
       "      <td>1085.0</td>\n",
       "      <td>8.02</td>\n",
       "    </tr>\n",
       "    <tr>\n",
       "      <th>...</th>\n",
       "      <td>...</td>\n",
       "      <td>...</td>\n",
       "      <td>...</td>\n",
       "      <td>...</td>\n",
       "      <td>...</td>\n",
       "      <td>...</td>\n",
       "    </tr>\n",
       "    <tr>\n",
       "      <th>903</th>\n",
       "      <td>5</td>\n",
       "      <td>19446</td>\n",
       "      <td>18.20</td>\n",
       "      <td>1199.0</td>\n",
       "      <td>887.0</td>\n",
       "      <td>6.50</td>\n",
       "    </tr>\n",
       "    <tr>\n",
       "      <th>904</th>\n",
       "      <td>7</td>\n",
       "      <td>26500</td>\n",
       "      <td>26.11</td>\n",
       "      <td>1462.0</td>\n",
       "      <td>8663.0</td>\n",
       "      <td>11.50</td>\n",
       "    </tr>\n",
       "    <tr>\n",
       "      <th>905</th>\n",
       "      <td>5</td>\n",
       "      <td>49000</td>\n",
       "      <td>17.50</td>\n",
       "      <td>1199.0</td>\n",
       "      <td>887.0</td>\n",
       "      <td>5.85</td>\n",
       "    </tr>\n",
       "    <tr>\n",
       "      <th>906</th>\n",
       "      <td>5</td>\n",
       "      <td>40000</td>\n",
       "      <td>18.78</td>\n",
       "      <td>999.0</td>\n",
       "      <td>75.0</td>\n",
       "      <td>4.75</td>\n",
       "    </tr>\n",
       "    <tr>\n",
       "      <th>907</th>\n",
       "      <td>5</td>\n",
       "      <td>34756</td>\n",
       "      <td>20.85</td>\n",
       "      <td>1197.0</td>\n",
       "      <td>8314.0</td>\n",
       "      <td>6.10</td>\n",
       "    </tr>\n",
       "  </tbody>\n",
       "</table>\n",
       "<p>908 rows × 6 columns</p>\n",
       "</div>"
      ],
      "text/plain": [
       "     seats  kms_driven  mileage(kmpl)  engine(cc)  torque(Nm)  price(in lakhs)\n",
       "0        5       30615          17.40       999.0      9863.0             8.99\n",
       "1        5       42000          18.70      1199.0       887.0             5.45\n",
       "2        5       36739          18.90      1197.0      8186.0             5.12\n",
       "3        5       76000          15.80      1591.0      1213.0             9.30\n",
       "4        5       28783          17.00      1198.0      1085.0             8.02\n",
       "..     ...         ...            ...         ...         ...              ...\n",
       "903      5       19446          18.20      1199.0       887.0             6.50\n",
       "904      7       26500          26.11      1462.0      8663.0            11.50\n",
       "905      5       49000          17.50      1199.0       887.0             5.85\n",
       "906      5       40000          18.78       999.0        75.0             4.75\n",
       "907      5       34756          20.85      1197.0      8314.0             6.10\n",
       "\n",
       "[908 rows x 6 columns]"
      ]
     },
     "execution_count": 29,
     "metadata": {},
     "output_type": "execute_result"
    }
   ],
   "source": [
    "used_cars_df"
   ]
  },
  {
   "cell_type": "markdown",
   "metadata": {},
   "source": [
    "Alright, looks like we have a good range with a good amount of samples"
   ]
  },
  {
   "cell_type": "markdown",
   "metadata": {},
   "source": [
    "## Linear Regression"
   ]
  },
  {
   "cell_type": "code",
   "execution_count": 30,
   "metadata": {},
   "outputs": [
    {
     "data": {
      "text/html": [
       "<div>\n",
       "<style scoped>\n",
       "    .dataframe tbody tr th:only-of-type {\n",
       "        vertical-align: middle;\n",
       "    }\n",
       "\n",
       "    .dataframe tbody tr th {\n",
       "        vertical-align: top;\n",
       "    }\n",
       "\n",
       "    .dataframe thead th {\n",
       "        text-align: right;\n",
       "    }\n",
       "</style>\n",
       "<table border=\"1\" class=\"dataframe\">\n",
       "  <thead>\n",
       "    <tr style=\"text-align: right;\">\n",
       "      <th></th>\n",
       "      <th>seats</th>\n",
       "      <th>kms_driven</th>\n",
       "      <th>mileage(kmpl)</th>\n",
       "      <th>engine(cc)</th>\n",
       "      <th>torque(Nm)</th>\n",
       "      <th>price(in lakhs)</th>\n",
       "    </tr>\n",
       "  </thead>\n",
       "  <tbody>\n",
       "    <tr>\n",
       "      <th>0</th>\n",
       "      <td>5</td>\n",
       "      <td>30615</td>\n",
       "      <td>17.4</td>\n",
       "      <td>999.0</td>\n",
       "      <td>9863.0</td>\n",
       "      <td>8.99</td>\n",
       "    </tr>\n",
       "    <tr>\n",
       "      <th>1</th>\n",
       "      <td>5</td>\n",
       "      <td>42000</td>\n",
       "      <td>18.7</td>\n",
       "      <td>1199.0</td>\n",
       "      <td>887.0</td>\n",
       "      <td>5.45</td>\n",
       "    </tr>\n",
       "  </tbody>\n",
       "</table>\n",
       "</div>"
      ],
      "text/plain": [
       "   seats  kms_driven  mileage(kmpl)  engine(cc)  torque(Nm)  price(in lakhs)\n",
       "0      5       30615           17.4       999.0      9863.0             8.99\n",
       "1      5       42000           18.7      1199.0       887.0             5.45"
      ]
     },
     "execution_count": 30,
     "metadata": {},
     "output_type": "execute_result"
    }
   ],
   "source": [
    "used_cars_df.head(2)"
   ]
  },
  {
   "cell_type": "markdown",
   "metadata": {},
   "source": [
    "Alright, now let's try to use all our features to predict our target, the sales price.\n",
    "\n",
    "We'll use a linear model for this. In other words, We'll now assume that we can model\n",
    "\n",
    "$$ price = w_5 \\cdot (seats) + w_4 \\cdot (kms\\ driven) + w_3 \\cdot (mileage(kmpl)) + w_2 \\cdot (engine(cc)) + w_1 \\cdot (torque(Nm)) + w_0$$\n",
    "\n",
    "**note** That we'll have a difficult time doing any plots here, since our eyes are limited to 3D while have 5 features"
   ]
  },
  {
   "cell_type": "code",
   "execution_count": 31,
   "metadata": {},
   "outputs": [],
   "source": [
    "X, y = used_cars_df.drop(columns=['price(in lakhs)', 'seats']).values, used_cars_df['price(in lakhs)'].values"
   ]
  },
  {
   "cell_type": "code",
   "execution_count": 32,
   "metadata": {},
   "outputs": [
    {
     "name": "stdout",
     "output_type": "stream",
     "text": [
      "(908, 4)\n",
      "(908,)\n"
     ]
    }
   ],
   "source": [
    "# all our features are here now\n",
    "\n",
    "print(X.shape)\n",
    "\n",
    "# our target column has the same shape as before\n",
    "\n",
    "print(y.shape)"
   ]
  },
  {
   "cell_type": "code",
   "execution_count": 33,
   "metadata": {},
   "outputs": [
    {
     "name": "stdout",
     "output_type": "stream",
     "text": [
      "(908, 1)\n"
     ]
    }
   ],
   "source": [
    "# We see that our features X has the required shape format, but the target y doesn't. So let's fix that now\n",
    "\n",
    "y = y.reshape(-1,1)\n",
    "\n",
    "print(y.shape)"
   ]
  },
  {
   "cell_type": "markdown",
   "metadata": {},
   "source": [
    "Train/test split"
   ]
  },
  {
   "cell_type": "code",
   "execution_count": 34,
   "metadata": {},
   "outputs": [
    {
     "name": "stdout",
     "output_type": "stream",
     "text": [
      "Train set:\n",
      "X: 726\n",
      "y: 726\n",
      "\n",
      "Test set:\n",
      "X: 182\n",
      "y: 182\n"
     ]
    }
   ],
   "source": [
    "from sklearn.model_selection import train_test_split\n",
    "\n",
    "X_train, X_test, y_train, y_test = train_test_split(X, y, test_size=0.2, random_state=42) # set a random state, so we can reproduce our results\n",
    "\n",
    "print('Train set:')\n",
    "print('X:', len(X_train))\n",
    "print('y:', len(y_train), end='\\n\\n')\n",
    "\n",
    "print('Test set:')\n",
    "print('X:', len(X_test))\n",
    "print('y:', len(y_test))"
   ]
  },
  {
   "cell_type": "code",
   "execution_count": 35,
   "metadata": {},
   "outputs": [],
   "source": [
    "# import a linear regression model and the MSE-metric from sklearn\n",
    "\n",
    "from sklearn.linear_model import LinearRegression\n",
    "from sklearn.metrics import mean_squared_error\n",
    "\n",
    "multiple_linear_regression_model = LinearRegression()     # note that this model has inate support to handle several features!"
   ]
  },
  {
   "cell_type": "code",
   "execution_count": 36,
   "metadata": {},
   "outputs": [],
   "source": [
    "# train the model\n",
    "\n",
    "multiple_linear_regression_model.fit(X_train, y_train);"
   ]
  },
  {
   "cell_type": "code",
   "execution_count": 37,
   "metadata": {},
   "outputs": [
    {
     "name": "stdout",
     "output_type": "stream",
     "text": [
      "[4.22693321]\n",
      "[[-1.68133543e-05  1.55726073e-02  1.88027542e-03 -2.24657384e-06]]\n"
     ]
    }
   ],
   "source": [
    "# print the weights of the trained model\n",
    "\n",
    "print(multiple_linear_regression_model.intercept_)\n",
    "print(multiple_linear_regression_model.coef_)"
   ]
  },
  {
   "cell_type": "code",
   "execution_count": 38,
   "metadata": {},
   "outputs": [],
   "source": [
    "# predictions for both the train and test set\n",
    "\n",
    "y_train_hat = multiple_linear_regression_model.predict(X_train)\n",
    "y_test_hat = multiple_linear_regression_model.predict(X_test)"
   ]
  },
  {
   "cell_type": "code",
   "execution_count": 39,
   "metadata": {},
   "outputs": [
    {
     "name": "stdout",
     "output_type": "stream",
     "text": [
      "Train:\n",
      "MSE: 5.337602938395204\n",
      "Test:\n",
      "MSE: 7.275323257690945\n"
     ]
    }
   ],
   "source": [
    "# calculate MSE for both sets\n",
    "\n",
    "print('Train:')\n",
    "print(f'MSE: {mean_squared_error(y_train, y_train_hat)}')\n",
    "\n",
    "print('Test:')\n",
    "print(f'MSE: {mean_squared_error(y_test, y_test_hat)}')"
   ]
  },
  {
   "cell_type": "code",
   "execution_count": 40,
   "metadata": {},
   "outputs": [
    {
     "data": {
      "text/plain": [
       "Text(0, 0.5, 'y_test_hat')"
      ]
     },
     "execution_count": 40,
     "metadata": {},
     "output_type": "execute_result"
    },
    {
     "data": {
      "image/png": "[encoded data removed]",
      "text/plain": [
       "<Figure size 640x480 with 1 Axes>"
      ]
     },
     "metadata": {},
     "output_type": "display_data"
    }
   ],
   "source": [
    "plt.scatter(y_test, y_test_hat);\n",
    "plt.xlabel('y_test')\n",
    "plt.ylabel('y_test_hat')\n"
   ]
  },
  {
   "cell_type": "markdown",
   "metadata": {},
   "source": [
    "How does this result compare to the regression models you built using only one feature in the previous lab?"
   ]
  },
  {
   "cell_type": "markdown",
   "metadata": {},
   "source": [
    "---\n",
    "\n",
    "## Challanges\n",
    "\n",
    "**Task 1**\n",
    "\n",
    "Try re-training the multiple linear regression model above, each time removing a single feature. I.e., you should train 5 models with the following features respectively:\n",
    "\n",
    "1. $x_1, x_2, x_3, x_4$\n",
    "\n",
    "2. $x_1, x_2, x_3, x_5$\n",
    "\n",
    "3. $x_1, x_2, x_4, x_5$\n",
    "\n",
    "4. $x_1, x_3, x_4, x_5$\n",
    "\n",
    "5. $x_2, x_3, x_4, x_5$\n",
    "\n",
    "Does any of the above combinations of features yield a better performing model? Or perhaps our efforts to model used care prices using only these features from this specific dataset is simply futile..."
   ]
  },
  {
   "cell_type": "markdown",
   "metadata": {},
   "source": []
  }
 ],
 "metadata": {
  "kernelspec": {
   "display_name": "machinelearning",
   "language": "python",
   "name": "python3"
  },
  "language_info": {
   "codemirror_mode": {
    "name": "ipython",
    "version": 3
   },
   "file_extension": ".py",
   "mimetype": "text/x-python",
   "name": "python",
   "nbconvert_exporter": "python",
   "pygments_lexer": "ipython3",
   "version": "3.11.9"
  }
 },
 "nbformat": 4,
 "nbformat_minor": 2
}
